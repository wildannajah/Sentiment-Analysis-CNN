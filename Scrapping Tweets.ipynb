{
 "cells": [
  {
   "cell_type": "code",
   "execution_count": null,
   "metadata": {},
   "outputs": [],
   "source": [
    "import json\n",
    "import tweepy\n",
    "import csv\n",
    "import re"
   ]
  },
  {
   "cell_type": "code",
   "execution_count": null,
   "metadata": {},
   "outputs": [],
   "source": [
    "def search_for(consumer_key, consumer_secret, access_token, access_token_secret, keyword):\n",
    "    \n",
    "    #create authentication for accessing Twitter\n",
    "    auth = tweepy.OAuthHandler(consumer_key, consumer_secret)\n",
    "    auth.set_access_token(access_token, access_token_secret)\n",
    "\n",
    "    #initialize Tweepy API\n",
    "    api = tweepy.API(auth)\n",
    "    \n",
    "    #get the name of the spreadsheet we will write to\n",
    "    fname = keyword\n",
    "    #open the spreadsheet we will write to\n",
    "    with open('%s.csv' % (fname), 'w',encoding=\"utf-8\") as file:\n",
    "\n",
    "        w = csv.writer(file)\n",
    "\n",
    "        #write header row to spreadsheet\n",
    "        w.writerow(['timestamp', 'tweet_text', 'username', 'all_hashtags', 'followers_count'])\n",
    "\n",
    "        #for each tweet matching our hashtags, write relevant info to the spreadsheet\n",
    "        for tweet in tweepy.Cursor(api.search, q=keyword+' -filter:retweets', \\\n",
    "                                   lang=\"en\",since=\"2020-01-01\",tweet_mode='extended').items(10):\n",
    "            print (tweet.created_at, tweet.full_text.encode('utf8'), tweet.user.screen_name)\n",
    "            w.writerow([tweet.created_at, tweet.full_text.encode('utf8'), tweet.user.screen_name, [e['text'] for e in tweet._json['entities']['hashtags']], tweet.user.followers_count])"
   ]
  },
  {
   "cell_type": "code",
   "execution_count": null,
   "metadata": {},
   "outputs": [],
   "source": [
    "consumer_key = 'OhLa0UoHOiEagcMmDnGNgSidO'\n",
    "consumer_secret = 'UxMTtspgsOpLDLIURuAJAQv7nd6Vm3c0aeeF75eY96pdPy47cx'\n",
    "access_token = '1069112336605016065-balp4CR4jreISZeI6ePfnJYBxSEL9o'\n",
    "access_token_secret = 'tYB7f5ifN8m4VWoz7yFsGUZk803vytlsyKEXIvLxbXnQc'\n",
    "    \n",
    "keyword = 'dota'\n",
    "\n",
    "if __name__ == '__main__':\n",
    "    search_for(consumer_key, consumer_secret, access_token, access_token_secret, keyword)"
   ]
  },
  {
   "cell_type": "code",
   "execution_count": null,
   "metadata": {},
   "outputs": [],
   "source": []
  }
 ],
 "metadata": {
  "kernelspec": {
   "display_name": "Python 3",
   "language": "python",
   "name": "python3"
  },
  "language_info": {
   "codemirror_mode": {
    "name": "ipython",
    "version": 3
   },
   "file_extension": ".py",
   "mimetype": "text/x-python",
   "name": "python",
   "nbconvert_exporter": "python",
   "pygments_lexer": "ipython3",
   "version": "3.7.4"
  }
 },
 "nbformat": 4,
 "nbformat_minor": 2
}
